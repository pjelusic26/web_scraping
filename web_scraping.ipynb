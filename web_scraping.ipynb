{
 "cells": [
  {
   "cell_type": "markdown",
   "metadata": {},
   "source": [
    "# Web scraping - Basketball reference"
   ]
  },
  {
   "cell_type": "code",
   "execution_count": 1,
   "metadata": {
    "colab": {
     "base_uri": "https://localhost:8080/"
    },
    "id": "UGiT4TA_7sXk",
    "outputId": "b10efeb0-d6b8-4600-b36b-610e734721df"
   },
   "outputs": [
    {
     "name": "stdout",
     "output_type": "stream",
     "text": [
      "Requirement already satisfied: requests in /Users/zgebac/miniconda3/envs/img-proc/lib/python3.7/site-packages (2.24.0)\n",
      "Requirement already satisfied: certifi>=2017.4.17 in /Users/zgebac/miniconda3/envs/img-proc/lib/python3.7/site-packages (from requests) (2022.9.14)\n",
      "Requirement already satisfied: chardet<4,>=3.0.2 in /Users/zgebac/miniconda3/envs/img-proc/lib/python3.7/site-packages (from requests) (3.0.4)\n",
      "Requirement already satisfied: urllib3!=1.25.0,!=1.25.1,<1.26,>=1.21.1 in /Users/zgebac/miniconda3/envs/img-proc/lib/python3.7/site-packages (from requests) (1.25.11)\n",
      "Requirement already satisfied: idna<3,>=2.5 in /Users/zgebac/miniconda3/envs/img-proc/lib/python3.7/site-packages (from requests) (2.10)\n",
      "Requirement already satisfied: beautifulsoup4 in /Users/zgebac/miniconda3/envs/img-proc/lib/python3.7/site-packages (4.11.1)\n",
      "Requirement already satisfied: soupsieve>1.2 in /Users/zgebac/miniconda3/envs/img-proc/lib/python3.7/site-packages (from beautifulsoup4) (2.3.2.post1)\n"
     ]
    }
   ],
   "source": [
    "# Install packages\n",
    "!pip install requests\n",
    "!pip install beautifulsoup4"
   ]
  },
  {
   "cell_type": "code",
   "execution_count": 2,
   "metadata": {},
   "outputs": [],
   "source": [
    "# Import libraries/ packages in the notebook\n",
    "import pandas as pd\n",
    "import requests\n",
    "from bs4 import BeautifulSoup"
   ]
  },
  {
   "cell_type": "code",
   "execution_count": 3,
   "metadata": {
    "id": "0msiDJaj8gCb"
   },
   "outputs": [],
   "source": [
    "# Define a list for looping through awards by year\n",
    "years = list(range(1991, 2022))"
   ]
  },
  {
   "cell_type": "code",
   "execution_count": 4,
   "metadata": {
    "id": "SfLZ6HOc8ph7"
   },
   "outputs": [],
   "source": [
    "# Define url variable with the year to be filled afterwards (inside the loop)\n",
    "url_start = \"https://www.basketball-reference.com/awards/awards_{}.html\""
   ]
  },
  {
   "cell_type": "code",
   "execution_count": 5,
   "metadata": {
    "id": "J8gVRKkI87ko"
   },
   "outputs": [],
   "source": [
    "# Save data for each year as a separate html\n",
    "for year in years:\n",
    "    # The url will change with each loop instance\n",
    "    url = url_start.format(year)\n",
    "    # Get the data from the url\n",
    "    data = requests.get(url)\n",
    "    # Save each html as a separate file\n",
    "    with open(\"html_files/{}.html\".format(year), \"w+\") as f:\n",
    "        f.write(data.text)"
   ]
  },
  {
   "cell_type": "code",
   "execution_count": 6,
   "metadata": {
    "id": "5kaeTWnZAJuH"
   },
   "outputs": [],
   "source": [
    "# Create empty list, to be filled with data from each html\n",
    "dfs = []\n",
    "\n",
    "# Loop through each html file\n",
    "for year in years:\n",
    "    # Read html file\n",
    "    with open(\"html_files/{}.html\".format(year)) as f:\n",
    "        page = f.read()\n",
    "    # Parse the html file with BeautifulSoup\n",
    "    soup = BeautifulSoup(page, \"html.parser\")\n",
    "    # Pin-point table-rows with the class \"over_header\", and remove them from\n",
    "    soup.find('tr', class_ = 'over_header').decompose()\n",
    "    # Find the table with the id \"mvp\"\n",
    "    mvp_table = soup.find(id = 'mvp')\n",
    "    # Read the html file with Pandas\n",
    "    mvp = pd.read_html(str(mvp_table))[0]\n",
    "    # Add \"Year\" column so we have information inside the table\n",
    "    mvp[\"Year\"] = year\n",
    "    # Append the DataFrame to the list\n",
    "    dfs.append(mvp)"
   ]
  },
  {
   "cell_type": "code",
   "execution_count": 7,
   "metadata": {
    "id": "kzECNQQCCCfi"
   },
   "outputs": [],
   "source": [
    "# Concatenate the list\n",
    "mvps = pd.concat(dfs)"
   ]
  },
  {
   "cell_type": "code",
   "execution_count": 8,
   "metadata": {
    "colab": {
     "base_uri": "https://localhost:8080/",
     "height": 404
    },
    "id": "sQz4k1u-CE_y",
    "outputId": "9caa0e48-95c2-4191-dd25-ea75af8b1a79"
   },
   "outputs": [
    {
     "data": {
      "text/html": [
       "<div>\n",
       "<style scoped>\n",
       "    .dataframe tbody tr th:only-of-type {\n",
       "        vertical-align: middle;\n",
       "    }\n",
       "\n",
       "    .dataframe tbody tr th {\n",
       "        vertical-align: top;\n",
       "    }\n",
       "\n",
       "    .dataframe thead th {\n",
       "        text-align: right;\n",
       "    }\n",
       "</style>\n",
       "<table border=\"1\" class=\"dataframe\">\n",
       "  <thead>\n",
       "    <tr style=\"text-align: right;\">\n",
       "      <th></th>\n",
       "      <th>Rank</th>\n",
       "      <th>Player</th>\n",
       "      <th>Age</th>\n",
       "      <th>Tm</th>\n",
       "      <th>First</th>\n",
       "      <th>Pts Won</th>\n",
       "      <th>Pts Max</th>\n",
       "      <th>Share</th>\n",
       "      <th>G</th>\n",
       "      <th>MP</th>\n",
       "      <th>...</th>\n",
       "      <th>TRB</th>\n",
       "      <th>AST</th>\n",
       "      <th>STL</th>\n",
       "      <th>BLK</th>\n",
       "      <th>FG%</th>\n",
       "      <th>3P%</th>\n",
       "      <th>FT%</th>\n",
       "      <th>WS</th>\n",
       "      <th>WS/48</th>\n",
       "      <th>Year</th>\n",
       "    </tr>\n",
       "  </thead>\n",
       "  <tbody>\n",
       "    <tr>\n",
       "      <th>0</th>\n",
       "      <td>1</td>\n",
       "      <td>Michael Jordan</td>\n",
       "      <td>27</td>\n",
       "      <td>CHI</td>\n",
       "      <td>77.0</td>\n",
       "      <td>891.0</td>\n",
       "      <td>960</td>\n",
       "      <td>0.928</td>\n",
       "      <td>82</td>\n",
       "      <td>37.0</td>\n",
       "      <td>...</td>\n",
       "      <td>6.0</td>\n",
       "      <td>5.5</td>\n",
       "      <td>2.7</td>\n",
       "      <td>1.0</td>\n",
       "      <td>0.539</td>\n",
       "      <td>0.312</td>\n",
       "      <td>0.851</td>\n",
       "      <td>20.3</td>\n",
       "      <td>0.321</td>\n",
       "      <td>1991</td>\n",
       "    </tr>\n",
       "    <tr>\n",
       "      <th>1</th>\n",
       "      <td>2</td>\n",
       "      <td>Magic Johnson</td>\n",
       "      <td>31</td>\n",
       "      <td>LAL</td>\n",
       "      <td>10.0</td>\n",
       "      <td>497.0</td>\n",
       "      <td>960</td>\n",
       "      <td>0.518</td>\n",
       "      <td>79</td>\n",
       "      <td>37.1</td>\n",
       "      <td>...</td>\n",
       "      <td>7.0</td>\n",
       "      <td>12.5</td>\n",
       "      <td>1.3</td>\n",
       "      <td>0.2</td>\n",
       "      <td>0.477</td>\n",
       "      <td>0.320</td>\n",
       "      <td>0.906</td>\n",
       "      <td>15.4</td>\n",
       "      <td>0.251</td>\n",
       "      <td>1991</td>\n",
       "    </tr>\n",
       "    <tr>\n",
       "      <th>2</th>\n",
       "      <td>3</td>\n",
       "      <td>David Robinson</td>\n",
       "      <td>25</td>\n",
       "      <td>SAS</td>\n",
       "      <td>6.0</td>\n",
       "      <td>476.0</td>\n",
       "      <td>960</td>\n",
       "      <td>0.496</td>\n",
       "      <td>82</td>\n",
       "      <td>37.7</td>\n",
       "      <td>...</td>\n",
       "      <td>13.0</td>\n",
       "      <td>2.5</td>\n",
       "      <td>1.5</td>\n",
       "      <td>3.9</td>\n",
       "      <td>0.552</td>\n",
       "      <td>0.143</td>\n",
       "      <td>0.762</td>\n",
       "      <td>17.0</td>\n",
       "      <td>0.264</td>\n",
       "      <td>1991</td>\n",
       "    </tr>\n",
       "    <tr>\n",
       "      <th>3</th>\n",
       "      <td>4</td>\n",
       "      <td>Charles Barkley</td>\n",
       "      <td>27</td>\n",
       "      <td>PHI</td>\n",
       "      <td>2.0</td>\n",
       "      <td>222.0</td>\n",
       "      <td>960</td>\n",
       "      <td>0.231</td>\n",
       "      <td>67</td>\n",
       "      <td>37.3</td>\n",
       "      <td>...</td>\n",
       "      <td>10.1</td>\n",
       "      <td>4.2</td>\n",
       "      <td>1.6</td>\n",
       "      <td>0.5</td>\n",
       "      <td>0.570</td>\n",
       "      <td>0.284</td>\n",
       "      <td>0.722</td>\n",
       "      <td>13.4</td>\n",
       "      <td>0.258</td>\n",
       "      <td>1991</td>\n",
       "    </tr>\n",
       "    <tr>\n",
       "      <th>4</th>\n",
       "      <td>5</td>\n",
       "      <td>Karl Malone</td>\n",
       "      <td>27</td>\n",
       "      <td>UTA</td>\n",
       "      <td>0.0</td>\n",
       "      <td>142.0</td>\n",
       "      <td>960</td>\n",
       "      <td>0.148</td>\n",
       "      <td>82</td>\n",
       "      <td>40.3</td>\n",
       "      <td>...</td>\n",
       "      <td>11.8</td>\n",
       "      <td>3.3</td>\n",
       "      <td>1.1</td>\n",
       "      <td>1.0</td>\n",
       "      <td>0.527</td>\n",
       "      <td>0.286</td>\n",
       "      <td>0.770</td>\n",
       "      <td>15.5</td>\n",
       "      <td>0.225</td>\n",
       "      <td>1991</td>\n",
       "    </tr>\n",
       "  </tbody>\n",
       "</table>\n",
       "<p>5 rows × 21 columns</p>\n",
       "</div>"
      ],
      "text/plain": [
       "  Rank           Player  Age   Tm  First  Pts Won  Pts Max  Share   G    MP  \\\n",
       "0    1   Michael Jordan   27  CHI   77.0    891.0      960  0.928  82  37.0   \n",
       "1    2    Magic Johnson   31  LAL   10.0    497.0      960  0.518  79  37.1   \n",
       "2    3   David Robinson   25  SAS    6.0    476.0      960  0.496  82  37.7   \n",
       "3    4  Charles Barkley   27  PHI    2.0    222.0      960  0.231  67  37.3   \n",
       "4    5      Karl Malone   27  UTA    0.0    142.0      960  0.148  82  40.3   \n",
       "\n",
       "   ...   TRB   AST  STL  BLK    FG%    3P%    FT%    WS  WS/48  Year  \n",
       "0  ...   6.0   5.5  2.7  1.0  0.539  0.312  0.851  20.3  0.321  1991  \n",
       "1  ...   7.0  12.5  1.3  0.2  0.477  0.320  0.906  15.4  0.251  1991  \n",
       "2  ...  13.0   2.5  1.5  3.9  0.552  0.143  0.762  17.0  0.264  1991  \n",
       "3  ...  10.1   4.2  1.6  0.5  0.570  0.284  0.722  13.4  0.258  1991  \n",
       "4  ...  11.8   3.3  1.1  1.0  0.527  0.286  0.770  15.5  0.225  1991  \n",
       "\n",
       "[5 rows x 21 columns]"
      ]
     },
     "execution_count": 8,
     "metadata": {},
     "output_type": "execute_result"
    }
   ],
   "source": [
    "# Display first five rows\n",
    "mvps.head()"
   ]
  },
  {
   "cell_type": "code",
   "execution_count": 9,
   "metadata": {
    "id": "JE3Y9Db8CK6G"
   },
   "outputs": [],
   "source": [
    "# Export DataFrame to CSV\n",
    "mvps.to_csv(\"mvps.csv\")"
   ]
  }
 ],
 "metadata": {
  "colab": {
   "provenance": []
  },
  "kernelspec": {
   "display_name": "Python 3",
   "language": "python",
   "name": "python3"
  },
  "language_info": {
   "codemirror_mode": {
    "name": "ipython",
    "version": 3
   },
   "file_extension": ".py",
   "mimetype": "text/x-python",
   "name": "python",
   "nbconvert_exporter": "python",
   "pygments_lexer": "ipython3",
   "version": "3.7.3"
  }
 },
 "nbformat": 4,
 "nbformat_minor": 4
}
